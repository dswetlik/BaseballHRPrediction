{
 "cells": [
  {
   "cell_type": "markdown",
   "id": "0c218ca8-bf70-4bf0-b7d8-a3bdd6d2c019",
   "metadata": {},
   "source": [
    "# Baseball Homerun Predictions for Y2021"
   ]
  },
  {
   "cell_type": "markdown",
   "id": "af285adc-e33d-4cd2-a222-4fc99947c9e2",
   "metadata": {},
   "source": [
    "## Introduction"
   ]
  },
  {
   "cell_type": "markdown",
   "id": "b2ccc5c2-892b-4d61-806f-dfb0b9195c7e",
   "metadata": {},
   "source": [
    "We are going to attempt to accurately predict the amount of homeruns that will occur for the MLB 2021 Season. Since the season has already been completed and thus all the homeruns that can occur in the 2021 season have already happened, we have a fine measurement as to just how accurate our model will be."
   ]
  },
  {
   "cell_type": "markdown",
   "id": "d214dbeb-a0c3-40eb-930f-18be9a92f2ae",
   "metadata": {},
   "source": [
    "We are using data from the 2000-2020 seasons on players hitting stats organized by year. This dataset was obtained from http://www.seanlahman.com/baseball-archive/statistics/ using the 2020 - comma delimited version. This gives a mountain of different datasets, from which we pulled the Batting.csv dataset. The Batting.csv dataset had data on batters starting in the year 1871, which we have determined isn't exactly helpful when trying to determine more modern baseball statistics, thus our version of Batting.csv found at https://github.com/dswetlik/BaseballHRPrediction/blob/master/Batting.csv has been cut down from 1.5 centuries to 2 decades."
   ]
  },
  {
   "cell_type": "markdown",
   "id": "02ccc962-fd00-45d6-8bcd-dda53938abb5",
   "metadata": {},
   "source": [
    "That being said, we need to clean up our dataset a little bit more before we begin. This is because we need to compare yearly overall statistics and not individual player data. We will combine all of the statistics from every year and then begin fitting that to models."
   ]
  },
  {
   "cell_type": "markdown",
   "id": "e785915a-932c-492b-b310-65fd36442eb0",
   "metadata": {},
   "source": [
    "Our process for modeling will be fairly straightforward; we will do an ordinary least squares fit utilizing all of the predictors to get the p-values. After that, we will determine collinearity values using a VIF analysis. Then, we will perform subset selection using multiple techniques like forward subset selection. Finally, we will use that model to predict the amount of homeruns the next year and assess our accuracy."
   ]
  },
  {
   "cell_type": "markdown",
   "id": "926f2076-6eae-4ee2-9e2b-cd7bc7c82c5a",
   "metadata": {},
   "source": [
    "An initial disclaimer, the 2020 season was drastically shorter than every other season in the dataset due to the global pandemic and therefore the sample size is much smaller. However, we expect that the decrease in homeruns and games played will also be reflected in the other predictors proportionately so that it can still be reliably used as data."
   ]
  },
  {
   "cell_type": "markdown",
   "id": "291d69bf-a306-4ca8-8b84-f468313c0a25",
   "metadata": {},
   "source": [
    "## Data Setup"
   ]
  },
  {
   "cell_type": "code",
   "execution_count": 1,
   "id": "da1b80b7-6f1e-4ba9-a03b-f54a5f846be2",
   "metadata": {},
   "outputs": [],
   "source": [
    "# Basics and Plotting\n",
    "import pandas as pd\n",
    "import numpy as np\n",
    "import scipy as scp\n",
    "import matplotlib.pyplot as plt\n",
    "from mpl_toolkits import mplot3d\n",
    "import seaborn as sns\n",
    "from itertools import chain, combinations\n",
    "\n",
    "# Sklearn Models\n",
    "import sklearn.linear_model as skl_lm\n",
    "from sklearn.linear_model import LinearRegression, LogisticRegression\n",
    "from sklearn.linear_model import Lasso, Ridge\n",
    "from sklearn.metrics import mean_squared_error\n",
    "from sklearn.model_selection import train_test_split, LeaveOneOut, KFold, cross_val_score, cross_validate\n",
    "from sklearn.preprocessing import PolynomialFeatures\n",
    "from sklearn.neighbors import KNeighborsRegressor, KNeighborsClassifier\n",
    "from sklearn.preprocessing import scale\n",
    "from sklearn.decomposition import PCA\n",
    "from sklearn.cross_decomposition import PLSRegression\n",
    "\n",
    "# Alternative models\n",
    "import statsmodels.api as sm\n",
    "from statsmodels.stats.outliers_influence import variance_inflation_factor\n",
    "import statsmodels.formula.api as smf"
   ]
  },
  {
   "cell_type": "code",
   "execution_count": 2,
   "id": "812eb749-a23c-4bd8-89ce-6b41cc5ead30",
   "metadata": {},
   "outputs": [],
   "source": [
    "baseball = pd.read_csv(\"https://raw.githubusercontent.com/dswetlik/BaseballHRPrediction/master/Batting.csv\")"
   ]
  },
  {
   "cell_type": "code",
   "execution_count": 3,
   "id": "6534fba2-781a-440f-b912-03a150053652",
   "metadata": {},
   "outputs": [
    {
     "data": {
      "text/html": [
       "<div>\n",
       "<style scoped>\n",
       "    .dataframe tbody tr th:only-of-type {\n",
       "        vertical-align: middle;\n",
       "    }\n",
       "\n",
       "    .dataframe tbody tr th {\n",
       "        vertical-align: top;\n",
       "    }\n",
       "\n",
       "    .dataframe thead th {\n",
       "        text-align: right;\n",
       "    }\n",
       "</style>\n",
       "<table border=\"1\" class=\"dataframe\">\n",
       "  <thead>\n",
       "    <tr style=\"text-align: right;\">\n",
       "      <th></th>\n",
       "      <th>playerID</th>\n",
       "      <th>yearID</th>\n",
       "      <th>stint</th>\n",
       "      <th>teamID</th>\n",
       "      <th>lgID</th>\n",
       "      <th>G</th>\n",
       "      <th>AB</th>\n",
       "      <th>R</th>\n",
       "      <th>H</th>\n",
       "      <th>2B</th>\n",
       "      <th>...</th>\n",
       "      <th>RBI</th>\n",
       "      <th>SB</th>\n",
       "      <th>CS</th>\n",
       "      <th>BB</th>\n",
       "      <th>SO</th>\n",
       "      <th>IBB</th>\n",
       "      <th>HBP</th>\n",
       "      <th>SH</th>\n",
       "      <th>SF</th>\n",
       "      <th>GIDP</th>\n",
       "    </tr>\n",
       "  </thead>\n",
       "  <tbody>\n",
       "    <tr>\n",
       "      <th>0</th>\n",
       "      <td>abbotje01</td>\n",
       "      <td>2000</td>\n",
       "      <td>1</td>\n",
       "      <td>CHA</td>\n",
       "      <td>AL</td>\n",
       "      <td>80</td>\n",
       "      <td>215</td>\n",
       "      <td>31</td>\n",
       "      <td>59</td>\n",
       "      <td>15</td>\n",
       "      <td>...</td>\n",
       "      <td>29</td>\n",
       "      <td>2</td>\n",
       "      <td>1</td>\n",
       "      <td>21</td>\n",
       "      <td>38</td>\n",
       "      <td>1</td>\n",
       "      <td>2</td>\n",
       "      <td>2</td>\n",
       "      <td>1</td>\n",
       "      <td>2</td>\n",
       "    </tr>\n",
       "    <tr>\n",
       "      <th>1</th>\n",
       "      <td>abbotku01</td>\n",
       "      <td>2000</td>\n",
       "      <td>1</td>\n",
       "      <td>NYN</td>\n",
       "      <td>NL</td>\n",
       "      <td>79</td>\n",
       "      <td>157</td>\n",
       "      <td>22</td>\n",
       "      <td>34</td>\n",
       "      <td>7</td>\n",
       "      <td>...</td>\n",
       "      <td>12</td>\n",
       "      <td>1</td>\n",
       "      <td>1</td>\n",
       "      <td>14</td>\n",
       "      <td>51</td>\n",
       "      <td>2</td>\n",
       "      <td>1</td>\n",
       "      <td>0</td>\n",
       "      <td>1</td>\n",
       "      <td>2</td>\n",
       "    </tr>\n",
       "    <tr>\n",
       "      <th>2</th>\n",
       "      <td>abbotpa01</td>\n",
       "      <td>2000</td>\n",
       "      <td>1</td>\n",
       "      <td>SEA</td>\n",
       "      <td>AL</td>\n",
       "      <td>35</td>\n",
       "      <td>5</td>\n",
       "      <td>1</td>\n",
       "      <td>2</td>\n",
       "      <td>1</td>\n",
       "      <td>...</td>\n",
       "      <td>0</td>\n",
       "      <td>0</td>\n",
       "      <td>0</td>\n",
       "      <td>0</td>\n",
       "      <td>1</td>\n",
       "      <td>0</td>\n",
       "      <td>0</td>\n",
       "      <td>1</td>\n",
       "      <td>0</td>\n",
       "      <td>0</td>\n",
       "    </tr>\n",
       "    <tr>\n",
       "      <th>3</th>\n",
       "      <td>abreubo01</td>\n",
       "      <td>2000</td>\n",
       "      <td>1</td>\n",
       "      <td>PHI</td>\n",
       "      <td>NL</td>\n",
       "      <td>154</td>\n",
       "      <td>576</td>\n",
       "      <td>103</td>\n",
       "      <td>182</td>\n",
       "      <td>42</td>\n",
       "      <td>...</td>\n",
       "      <td>79</td>\n",
       "      <td>28</td>\n",
       "      <td>8</td>\n",
       "      <td>100</td>\n",
       "      <td>116</td>\n",
       "      <td>9</td>\n",
       "      <td>1</td>\n",
       "      <td>0</td>\n",
       "      <td>3</td>\n",
       "      <td>12</td>\n",
       "    </tr>\n",
       "    <tr>\n",
       "      <th>4</th>\n",
       "      <td>aceveju01</td>\n",
       "      <td>2000</td>\n",
       "      <td>1</td>\n",
       "      <td>MIL</td>\n",
       "      <td>NL</td>\n",
       "      <td>62</td>\n",
       "      <td>1</td>\n",
       "      <td>1</td>\n",
       "      <td>0</td>\n",
       "      <td>0</td>\n",
       "      <td>...</td>\n",
       "      <td>0</td>\n",
       "      <td>0</td>\n",
       "      <td>0</td>\n",
       "      <td>1</td>\n",
       "      <td>1</td>\n",
       "      <td>0</td>\n",
       "      <td>0</td>\n",
       "      <td>0</td>\n",
       "      <td>0</td>\n",
       "      <td>0</td>\n",
       "    </tr>\n",
       "    <tr>\n",
       "      <th>...</th>\n",
       "      <td>...</td>\n",
       "      <td>...</td>\n",
       "      <td>...</td>\n",
       "      <td>...</td>\n",
       "      <td>...</td>\n",
       "      <td>...</td>\n",
       "      <td>...</td>\n",
       "      <td>...</td>\n",
       "      <td>...</td>\n",
       "      <td>...</td>\n",
       "      <td>...</td>\n",
       "      <td>...</td>\n",
       "      <td>...</td>\n",
       "      <td>...</td>\n",
       "      <td>...</td>\n",
       "      <td>...</td>\n",
       "      <td>...</td>\n",
       "      <td>...</td>\n",
       "      <td>...</td>\n",
       "      <td>...</td>\n",
       "      <td>...</td>\n",
       "    </tr>\n",
       "    <tr>\n",
       "      <th>29518</th>\n",
       "      <td>zimmebr02</td>\n",
       "      <td>2020</td>\n",
       "      <td>1</td>\n",
       "      <td>BAL</td>\n",
       "      <td>AL</td>\n",
       "      <td>2</td>\n",
       "      <td>0</td>\n",
       "      <td>0</td>\n",
       "      <td>0</td>\n",
       "      <td>0</td>\n",
       "      <td>...</td>\n",
       "      <td>0</td>\n",
       "      <td>0</td>\n",
       "      <td>0</td>\n",
       "      <td>0</td>\n",
       "      <td>0</td>\n",
       "      <td>0</td>\n",
       "      <td>0</td>\n",
       "      <td>0</td>\n",
       "      <td>0</td>\n",
       "      <td>0</td>\n",
       "    </tr>\n",
       "    <tr>\n",
       "      <th>29519</th>\n",
       "      <td>zimmejo02</td>\n",
       "      <td>2020</td>\n",
       "      <td>1</td>\n",
       "      <td>DET</td>\n",
       "      <td>AL</td>\n",
       "      <td>3</td>\n",
       "      <td>0</td>\n",
       "      <td>0</td>\n",
       "      <td>0</td>\n",
       "      <td>0</td>\n",
       "      <td>...</td>\n",
       "      <td>0</td>\n",
       "      <td>0</td>\n",
       "      <td>0</td>\n",
       "      <td>0</td>\n",
       "      <td>0</td>\n",
       "      <td>0</td>\n",
       "      <td>0</td>\n",
       "      <td>0</td>\n",
       "      <td>0</td>\n",
       "      <td>0</td>\n",
       "    </tr>\n",
       "    <tr>\n",
       "      <th>29520</th>\n",
       "      <td>zimmeky01</td>\n",
       "      <td>2020</td>\n",
       "      <td>1</td>\n",
       "      <td>KCA</td>\n",
       "      <td>AL</td>\n",
       "      <td>16</td>\n",
       "      <td>0</td>\n",
       "      <td>0</td>\n",
       "      <td>0</td>\n",
       "      <td>0</td>\n",
       "      <td>...</td>\n",
       "      <td>0</td>\n",
       "      <td>0</td>\n",
       "      <td>0</td>\n",
       "      <td>0</td>\n",
       "      <td>0</td>\n",
       "      <td>0</td>\n",
       "      <td>0</td>\n",
       "      <td>0</td>\n",
       "      <td>0</td>\n",
       "      <td>0</td>\n",
       "    </tr>\n",
       "    <tr>\n",
       "      <th>29521</th>\n",
       "      <td>zuberty01</td>\n",
       "      <td>2020</td>\n",
       "      <td>1</td>\n",
       "      <td>KCA</td>\n",
       "      <td>AL</td>\n",
       "      <td>23</td>\n",
       "      <td>0</td>\n",
       "      <td>0</td>\n",
       "      <td>0</td>\n",
       "      <td>0</td>\n",
       "      <td>...</td>\n",
       "      <td>0</td>\n",
       "      <td>0</td>\n",
       "      <td>0</td>\n",
       "      <td>0</td>\n",
       "      <td>0</td>\n",
       "      <td>0</td>\n",
       "      <td>0</td>\n",
       "      <td>0</td>\n",
       "      <td>0</td>\n",
       "      <td>0</td>\n",
       "    </tr>\n",
       "    <tr>\n",
       "      <th>29522</th>\n",
       "      <td>zuninmi01</td>\n",
       "      <td>2020</td>\n",
       "      <td>1</td>\n",
       "      <td>TBA</td>\n",
       "      <td>AL</td>\n",
       "      <td>28</td>\n",
       "      <td>75</td>\n",
       "      <td>8</td>\n",
       "      <td>11</td>\n",
       "      <td>4</td>\n",
       "      <td>...</td>\n",
       "      <td>10</td>\n",
       "      <td>0</td>\n",
       "      <td>0</td>\n",
       "      <td>6</td>\n",
       "      <td>37</td>\n",
       "      <td>0</td>\n",
       "      <td>3</td>\n",
       "      <td>0</td>\n",
       "      <td>0</td>\n",
       "      <td>0</td>\n",
       "    </tr>\n",
       "  </tbody>\n",
       "</table>\n",
       "<p>29523 rows × 22 columns</p>\n",
       "</div>"
      ],
      "text/plain": [
       "        playerID  yearID  stint teamID lgID    G   AB    R    H  2B  ...  RBI  \\\n",
       "0      abbotje01    2000      1    CHA   AL   80  215   31   59  15  ...   29   \n",
       "1      abbotku01    2000      1    NYN   NL   79  157   22   34   7  ...   12   \n",
       "2      abbotpa01    2000      1    SEA   AL   35    5    1    2   1  ...    0   \n",
       "3      abreubo01    2000      1    PHI   NL  154  576  103  182  42  ...   79   \n",
       "4      aceveju01    2000      1    MIL   NL   62    1    1    0   0  ...    0   \n",
       "...          ...     ...    ...    ...  ...  ...  ...  ...  ...  ..  ...  ...   \n",
       "29518  zimmebr02    2020      1    BAL   AL    2    0    0    0   0  ...    0   \n",
       "29519  zimmejo02    2020      1    DET   AL    3    0    0    0   0  ...    0   \n",
       "29520  zimmeky01    2020      1    KCA   AL   16    0    0    0   0  ...    0   \n",
       "29521  zuberty01    2020      1    KCA   AL   23    0    0    0   0  ...    0   \n",
       "29522  zuninmi01    2020      1    TBA   AL   28   75    8   11   4  ...   10   \n",
       "\n",
       "       SB  CS   BB   SO  IBB  HBP  SH  SF  GIDP  \n",
       "0       2   1   21   38    1    2   2   1     2  \n",
       "1       1   1   14   51    2    1   0   1     2  \n",
       "2       0   0    0    1    0    0   1   0     0  \n",
       "3      28   8  100  116    9    1   0   3    12  \n",
       "4       0   0    1    1    0    0   0   0     0  \n",
       "...    ..  ..  ...  ...  ...  ...  ..  ..   ...  \n",
       "29518   0   0    0    0    0    0   0   0     0  \n",
       "29519   0   0    0    0    0    0   0   0     0  \n",
       "29520   0   0    0    0    0    0   0   0     0  \n",
       "29521   0   0    0    0    0    0   0   0     0  \n",
       "29522   0   0    6   37    0    3   0   0     0  \n",
       "\n",
       "[29523 rows x 22 columns]"
      ]
     },
     "execution_count": 3,
     "metadata": {},
     "output_type": "execute_result"
    }
   ],
   "source": [
    "baseball"
   ]
  },
  {
   "cell_type": "markdown",
   "id": "660166c8-c630-4f70-974f-c6cd3e4714e3",
   "metadata": {},
   "source": [
    "Below we are dropping the columns playerID, teamID, stint, and lgID, as we have decided that they would be inconsequential or irrelavent for determining league-wide homerun counts."
   ]
  },
  {
   "cell_type": "code",
   "execution_count": 5,
   "id": "b66dbd41-21b5-4fff-b65a-6c3622aba001",
   "metadata": {},
   "outputs": [
    {
     "ename": "KeyError",
     "evalue": "\"['playerID' 'teamID' 'stint' 'lgID' 'CS' 'SH' 'SF' 'GIDP' 'SB'] not found in axis\"",
     "output_type": "error",
     "traceback": [
      "\u001b[1;31m---------------------------------------------------------------------------\u001b[0m",
      "\u001b[1;31mKeyError\u001b[0m                                  Traceback (most recent call last)",
      "\u001b[1;32m<ipython-input-5-7cacf95f5af8>\u001b[0m in \u001b[0;36m<module>\u001b[1;34m\u001b[0m\n\u001b[1;32m----> 1\u001b[1;33m \u001b[0mbaseball\u001b[0m\u001b[1;33m.\u001b[0m\u001b[0mdrop\u001b[0m\u001b[1;33m(\u001b[0m\u001b[0mcolumns\u001b[0m\u001b[1;33m=\u001b[0m\u001b[1;33m[\u001b[0m\u001b[1;34m\"playerID\"\u001b[0m\u001b[1;33m,\u001b[0m\u001b[1;34m\"teamID\"\u001b[0m\u001b[1;33m,\u001b[0m\u001b[1;34m\"stint\"\u001b[0m\u001b[1;33m,\u001b[0m\u001b[1;34m\"lgID\"\u001b[0m\u001b[1;33m,\u001b[0m\u001b[1;34m\"CS\"\u001b[0m\u001b[1;33m,\u001b[0m\u001b[1;34m\"SH\"\u001b[0m\u001b[1;33m,\u001b[0m\u001b[1;34m\"SF\"\u001b[0m\u001b[1;33m,\u001b[0m\u001b[1;34m\"GIDP\"\u001b[0m\u001b[1;33m,\u001b[0m\u001b[1;34m\"SB\"\u001b[0m\u001b[1;33m,\u001b[0m\u001b[1;34m\"HBP\"\u001b[0m\u001b[1;33m]\u001b[0m\u001b[1;33m,\u001b[0m \u001b[0maxis\u001b[0m\u001b[1;33m=\u001b[0m\u001b[1;36m1\u001b[0m\u001b[1;33m,\u001b[0m \u001b[0minplace\u001b[0m\u001b[1;33m=\u001b[0m\u001b[1;32mTrue\u001b[0m\u001b[1;33m)\u001b[0m\u001b[1;33m\u001b[0m\u001b[1;33m\u001b[0m\u001b[0m\n\u001b[0m\u001b[0;32m      2\u001b[0m \u001b[0mbaseball\u001b[0m\u001b[1;33m.\u001b[0m\u001b[0mrename\u001b[0m\u001b[1;33m(\u001b[0m\u001b[0mcolumns\u001b[0m\u001b[1;33m=\u001b[0m\u001b[1;33m{\u001b[0m\u001b[1;34m\"2B\"\u001b[0m\u001b[1;33m:\u001b[0m \u001b[1;34m\"Double\"\u001b[0m\u001b[1;33m,\u001b[0m \u001b[1;34m\"3B\"\u001b[0m\u001b[1;33m:\u001b[0m \u001b[1;34m\"Triple\"\u001b[0m\u001b[1;33m}\u001b[0m\u001b[1;33m,\u001b[0m \u001b[0minplace\u001b[0m\u001b[1;33m=\u001b[0m\u001b[1;32mTrue\u001b[0m\u001b[1;33m)\u001b[0m\u001b[1;33m\u001b[0m\u001b[1;33m\u001b[0m\u001b[0m\n\u001b[0;32m      3\u001b[0m \u001b[0mbaseball\u001b[0m\u001b[1;33m.\u001b[0m\u001b[0mhead\u001b[0m\u001b[1;33m(\u001b[0m\u001b[1;33m)\u001b[0m\u001b[1;33m\u001b[0m\u001b[1;33m\u001b[0m\u001b[0m\n",
      "\u001b[1;32m~\\anaconda3\\lib\\site-packages\\pandas\\core\\frame.py\u001b[0m in \u001b[0;36mdrop\u001b[1;34m(self, labels, axis, index, columns, level, inplace, errors)\u001b[0m\n\u001b[0;32m   4306\u001b[0m                 \u001b[0mweight\u001b[0m  \u001b[1;36m1.0\u001b[0m     \u001b[1;36m0.8\u001b[0m\u001b[1;33m\u001b[0m\u001b[1;33m\u001b[0m\u001b[0m\n\u001b[0;32m   4307\u001b[0m         \"\"\"\n\u001b[1;32m-> 4308\u001b[1;33m         return super().drop(\n\u001b[0m\u001b[0;32m   4309\u001b[0m             \u001b[0mlabels\u001b[0m\u001b[1;33m=\u001b[0m\u001b[0mlabels\u001b[0m\u001b[1;33m,\u001b[0m\u001b[1;33m\u001b[0m\u001b[1;33m\u001b[0m\u001b[0m\n\u001b[0;32m   4310\u001b[0m             \u001b[0maxis\u001b[0m\u001b[1;33m=\u001b[0m\u001b[0maxis\u001b[0m\u001b[1;33m,\u001b[0m\u001b[1;33m\u001b[0m\u001b[1;33m\u001b[0m\u001b[0m\n",
      "\u001b[1;32m~\\anaconda3\\lib\\site-packages\\pandas\\core\\generic.py\u001b[0m in \u001b[0;36mdrop\u001b[1;34m(self, labels, axis, index, columns, level, inplace, errors)\u001b[0m\n\u001b[0;32m   4151\u001b[0m         \u001b[1;32mfor\u001b[0m \u001b[0maxis\u001b[0m\u001b[1;33m,\u001b[0m \u001b[0mlabels\u001b[0m \u001b[1;32min\u001b[0m \u001b[0maxes\u001b[0m\u001b[1;33m.\u001b[0m\u001b[0mitems\u001b[0m\u001b[1;33m(\u001b[0m\u001b[1;33m)\u001b[0m\u001b[1;33m:\u001b[0m\u001b[1;33m\u001b[0m\u001b[1;33m\u001b[0m\u001b[0m\n\u001b[0;32m   4152\u001b[0m             \u001b[1;32mif\u001b[0m \u001b[0mlabels\u001b[0m \u001b[1;32mis\u001b[0m \u001b[1;32mnot\u001b[0m \u001b[1;32mNone\u001b[0m\u001b[1;33m:\u001b[0m\u001b[1;33m\u001b[0m\u001b[1;33m\u001b[0m\u001b[0m\n\u001b[1;32m-> 4153\u001b[1;33m                 \u001b[0mobj\u001b[0m \u001b[1;33m=\u001b[0m \u001b[0mobj\u001b[0m\u001b[1;33m.\u001b[0m\u001b[0m_drop_axis\u001b[0m\u001b[1;33m(\u001b[0m\u001b[0mlabels\u001b[0m\u001b[1;33m,\u001b[0m \u001b[0maxis\u001b[0m\u001b[1;33m,\u001b[0m \u001b[0mlevel\u001b[0m\u001b[1;33m=\u001b[0m\u001b[0mlevel\u001b[0m\u001b[1;33m,\u001b[0m \u001b[0merrors\u001b[0m\u001b[1;33m=\u001b[0m\u001b[0merrors\u001b[0m\u001b[1;33m)\u001b[0m\u001b[1;33m\u001b[0m\u001b[1;33m\u001b[0m\u001b[0m\n\u001b[0m\u001b[0;32m   4154\u001b[0m \u001b[1;33m\u001b[0m\u001b[0m\n\u001b[0;32m   4155\u001b[0m         \u001b[1;32mif\u001b[0m \u001b[0minplace\u001b[0m\u001b[1;33m:\u001b[0m\u001b[1;33m\u001b[0m\u001b[1;33m\u001b[0m\u001b[0m\n",
      "\u001b[1;32m~\\anaconda3\\lib\\site-packages\\pandas\\core\\generic.py\u001b[0m in \u001b[0;36m_drop_axis\u001b[1;34m(self, labels, axis, level, errors)\u001b[0m\n\u001b[0;32m   4186\u001b[0m                 \u001b[0mnew_axis\u001b[0m \u001b[1;33m=\u001b[0m \u001b[0maxis\u001b[0m\u001b[1;33m.\u001b[0m\u001b[0mdrop\u001b[0m\u001b[1;33m(\u001b[0m\u001b[0mlabels\u001b[0m\u001b[1;33m,\u001b[0m \u001b[0mlevel\u001b[0m\u001b[1;33m=\u001b[0m\u001b[0mlevel\u001b[0m\u001b[1;33m,\u001b[0m \u001b[0merrors\u001b[0m\u001b[1;33m=\u001b[0m\u001b[0merrors\u001b[0m\u001b[1;33m)\u001b[0m\u001b[1;33m\u001b[0m\u001b[1;33m\u001b[0m\u001b[0m\n\u001b[0;32m   4187\u001b[0m             \u001b[1;32melse\u001b[0m\u001b[1;33m:\u001b[0m\u001b[1;33m\u001b[0m\u001b[1;33m\u001b[0m\u001b[0m\n\u001b[1;32m-> 4188\u001b[1;33m                 \u001b[0mnew_axis\u001b[0m \u001b[1;33m=\u001b[0m \u001b[0maxis\u001b[0m\u001b[1;33m.\u001b[0m\u001b[0mdrop\u001b[0m\u001b[1;33m(\u001b[0m\u001b[0mlabels\u001b[0m\u001b[1;33m,\u001b[0m \u001b[0merrors\u001b[0m\u001b[1;33m=\u001b[0m\u001b[0merrors\u001b[0m\u001b[1;33m)\u001b[0m\u001b[1;33m\u001b[0m\u001b[1;33m\u001b[0m\u001b[0m\n\u001b[0m\u001b[0;32m   4189\u001b[0m             \u001b[0mresult\u001b[0m \u001b[1;33m=\u001b[0m \u001b[0mself\u001b[0m\u001b[1;33m.\u001b[0m\u001b[0mreindex\u001b[0m\u001b[1;33m(\u001b[0m\u001b[1;33m**\u001b[0m\u001b[1;33m{\u001b[0m\u001b[0maxis_name\u001b[0m\u001b[1;33m:\u001b[0m \u001b[0mnew_axis\u001b[0m\u001b[1;33m}\u001b[0m\u001b[1;33m)\u001b[0m\u001b[1;33m\u001b[0m\u001b[1;33m\u001b[0m\u001b[0m\n\u001b[0;32m   4190\u001b[0m \u001b[1;33m\u001b[0m\u001b[0m\n",
      "\u001b[1;32m~\\anaconda3\\lib\\site-packages\\pandas\\core\\indexes\\base.py\u001b[0m in \u001b[0;36mdrop\u001b[1;34m(self, labels, errors)\u001b[0m\n\u001b[0;32m   5589\u001b[0m         \u001b[1;32mif\u001b[0m \u001b[0mmask\u001b[0m\u001b[1;33m.\u001b[0m\u001b[0many\u001b[0m\u001b[1;33m(\u001b[0m\u001b[1;33m)\u001b[0m\u001b[1;33m:\u001b[0m\u001b[1;33m\u001b[0m\u001b[1;33m\u001b[0m\u001b[0m\n\u001b[0;32m   5590\u001b[0m             \u001b[1;32mif\u001b[0m \u001b[0merrors\u001b[0m \u001b[1;33m!=\u001b[0m \u001b[1;34m\"ignore\"\u001b[0m\u001b[1;33m:\u001b[0m\u001b[1;33m\u001b[0m\u001b[1;33m\u001b[0m\u001b[0m\n\u001b[1;32m-> 5591\u001b[1;33m                 \u001b[1;32mraise\u001b[0m \u001b[0mKeyError\u001b[0m\u001b[1;33m(\u001b[0m\u001b[1;34mf\"{labels[mask]} not found in axis\"\u001b[0m\u001b[1;33m)\u001b[0m\u001b[1;33m\u001b[0m\u001b[1;33m\u001b[0m\u001b[0m\n\u001b[0m\u001b[0;32m   5592\u001b[0m             \u001b[0mindexer\u001b[0m \u001b[1;33m=\u001b[0m \u001b[0mindexer\u001b[0m\u001b[1;33m[\u001b[0m\u001b[1;33m~\u001b[0m\u001b[0mmask\u001b[0m\u001b[1;33m]\u001b[0m\u001b[1;33m\u001b[0m\u001b[1;33m\u001b[0m\u001b[0m\n\u001b[0;32m   5593\u001b[0m         \u001b[1;32mreturn\u001b[0m \u001b[0mself\u001b[0m\u001b[1;33m.\u001b[0m\u001b[0mdelete\u001b[0m\u001b[1;33m(\u001b[0m\u001b[0mindexer\u001b[0m\u001b[1;33m)\u001b[0m\u001b[1;33m\u001b[0m\u001b[1;33m\u001b[0m\u001b[0m\n",
      "\u001b[1;31mKeyError\u001b[0m: \"['playerID' 'teamID' 'stint' 'lgID' 'CS' 'SH' 'SF' 'GIDP' 'SB'] not found in axis\""
     ]
    }
   ],
   "source": [
    "baseball.drop(columns=[\"playerID\",\"teamID\",\"stint\",\"lgID\",\"CS\",\"SH\",\"SF\",\"GIDP\",\"SB\",\"HBP\"], axis=1, inplace=True)\n",
    "baseball.rename(columns={\"2B\": \"Double\", \"3B\": \"Triple\"}, inplace=True)\n",
    "baseball.head()"
   ]
  },
  {
   "cell_type": "markdown",
   "id": "3812322f-45a3-4e31-bc48-edc31a7f8822",
   "metadata": {},
   "source": [
    "After dropping those columns, the remaining columns are as follows:"
   ]
  },
  {
   "cell_type": "markdown",
   "id": "c91bc15f-cdfe-40a3-a66f-a1bd518ad897",
   "metadata": {},
   "source": [
    "\n",
    "| Num | ID     | Name                       |\n",
    "|-----|--------|----------------------------|\n",
    "|  0  | yearID | Year                       |\n",
    "|  1  | G      | Games                      |\n",
    "|  2  | AB     | At Bats                    |\n",
    "|  3  | R      | Runs                       |\n",
    "|  4  | H      | Hits                       |\n",
    "|  5  | Double | Doubles                    |\n",
    "|  6  | Triple | Triples                    |\n",
    "|  7  | HR     | Homeruns                   |\n",
    "|  8  | RBI    | Runs Batted In             |\n",
    "|  9  | SB     | Stolen Bases               |\n",
    "| 10  | CS     | Caught Stealing            |\n",
    "| 11  | BB     | Base on Balls              |\n",
    "| 12  | SO     | Strikeouts                 |\n",
    "| 13  | IBB    | Intentional Walks          |\n",
    "| 14  | HBP    | Hit By Pitch               |\n",
    "| 15  | SH     | Sacrifice Hits             |\n",
    "| 16  | SF     | Sacrifice Flies            |\n",
    "| 17  | GIDP   | Grounded into Double Plays |"
   ]
  },
  {
   "cell_type": "markdown",
   "id": "c443c56a-ec4f-4614-8cff-1af38da37a01",
   "metadata": {},
   "source": [
    "This is almost usable for what we want, but it is still organized per-player, and we want it to be based on the year's total statistics. We will go through and create a new dataset now based on years."
   ]
  },
  {
   "cell_type": "code",
   "execution_count": null,
   "id": "7a951e1d-39de-4b8e-96be-1e0755ccbf2d",
   "metadata": {
    "tags": []
   },
   "outputs": [],
   "source": [
    "baseballYearTotal = []\n",
    "for i in range(2000,2021):\n",
    "    baseballYear = baseball.loc[baseball['yearID'] == i].to_dict(orient='dict')\n",
    "    G = 0\n",
    "    for j in baseballYear['G'].values():\n",
    "        G += j\n",
    "    AB = 0\n",
    "    for j in baseballYear['AB'].values():\n",
    "        AB += j\n",
    "    R = 0\n",
    "    for j in baseballYear['R'].values():\n",
    "        R += j\n",
    "    H = 0\n",
    "    for j in baseballYear['H'].values():\n",
    "        H += j\n",
    "    Double = 0\n",
    "    for j in baseballYear['Double'].values():\n",
    "        Double += j\n",
    "    Triple = 0\n",
    "    for j in baseballYear['Triple'].values():\n",
    "        Triple += j\n",
    "    HR = 0\n",
    "    for j in baseballYear['HR'].values():\n",
    "        HR += j\n",
    "    RBI = 0\n",
    "    for j in baseballYear['RBI'].values():\n",
    "        RBI += j\n",
    "    SB = 0\n",
    "    for j in baseballYear['SB'].values():\n",
    "        SB += j\n",
    "    CS = 0\n",
    "    for j in baseballYear['CS'].values():\n",
    "        CS += j\n",
    "    BB = 0\n",
    "    for j in baseballYear['BB'].values():\n",
    "        BB += j\n",
    "    SO = 0\n",
    "    for j in baseballYear['SO'].values():\n",
    "        SO += j\n",
    "    IBB = 0\n",
    "    for j in baseballYear['IBB'].values():\n",
    "        IBB += j\n",
    "    HBP = 0\n",
    "    for j in baseballYear['HBP'].values():\n",
    "        HBP += j\n",
    "    SH = 0\n",
    "    for j in baseballYear['SH'].values():\n",
    "        SH += j\n",
    "    SF = 0\n",
    "    for j in baseballYear['SF'].values():\n",
    "        SF += j\n",
    "    GIDP = 0\n",
    "    for j in baseballYear['GIDP'].values():\n",
    "        GIDP += j\n",
    "    baseballYearTotal.append([i,G,AB,R,H,Double,Triple,HR,RBI,SB,CS,BB,SO,IBB,HBP,SH,SF,GIDP])\n",
    "    \n",
    "newBaseball = pd.DataFrame(baseballYearTotal, columns=['yearID','G','AB','R','H','Double','Triple','HR','RBI','SB','CS','BB','SO','IBB','HBP','SH','SF','GIDP'])\n",
    "newBaseball"
   ]
  },
  {
   "cell_type": "code",
   "execution_count": null,
   "id": "8cd25576-030b-4a40-bd40-6eada6c5c238",
   "metadata": {},
   "outputs": [],
   "source": [
    "newBaseball.plot.bar(x='yearID', y='HR', rot=90)"
   ]
  },
  {
   "cell_type": "markdown",
   "id": "7a6eb5f0-e4f4-475b-8a4d-697cece74351",
   "metadata": {},
   "source": [
    "It appears that there is a general upwards trend in homeruns hit each year with a steep decrease in 2020 because COVID-19 shortened the season dramatically. We expect to see all of the predictors values to reflect this decrease proportionately. In 2021, it is expected that the number of homeruns will return to the rising trend over the last decade. In the baseball community, this has become known as the \"live ball era\" because of the upwards trend in homeruns. "
   ]
  },
  {
   "cell_type": "markdown",
   "id": "e3bdc0bd-ebc8-4172-8f9b-77c8a9ab26ad",
   "metadata": {},
   "source": [
    "Now that we have our data laid out in terms of total stats per year, we can continue."
   ]
  },
  {
   "cell_type": "code",
   "execution_count": null,
   "id": "4023545c-8fe9-4730-b5b1-77200447c971",
   "metadata": {},
   "outputs": [],
   "source": [
    "mod = smf.ols(formula='HR ~ 1 + yearID + G + AB + R + H + Double + Triple + RBI + SB + CS + BB + SO + IBB + HBP + SH + SF + GIDP', data = newBaseball)"
   ]
  },
  {
   "cell_type": "code",
   "execution_count": null,
   "id": "73cba06f-4d70-4cfe-b2b6-62c310c2c9be",
   "metadata": {},
   "outputs": [],
   "source": [
    "res = mod.fit()\n",
    "res.summary()"
   ]
  },
  {
   "cell_type": "markdown",
   "id": "93242197-1d30-42eb-9f0f-fd985c947a1f",
   "metadata": {},
   "source": [
    "We decided to do a VIF analysis to determine collinearity in the predictors and found that many of the variables had a VIF score of above ten. This indicates a large amount of collinearity. We will not drop the predictors because of this but it is important to keep in mind as we head into our next step of subset selection. "
   ]
  },
  {
   "cell_type": "code",
   "execution_count": null,
   "id": "85fd99d3-48ca-4d68-a6bc-4b9263238819",
   "metadata": {},
   "outputs": [],
   "source": [
    "vif = pd.DataFrame()\n",
    "vif['X'] = newBaseball.columns\n",
    "vif['vif'] = [variance_inflation_factor(newBaseball.values, i) for i in range(len(newBaseball.columns))]\n",
    "vif"
   ]
  },
  {
   "cell_type": "markdown",
   "id": "ddbd7c89-2c02-45a9-8fd9-9a7545e09c00",
   "metadata": {},
   "source": [
    "## Subset Selection"
   ]
  },
  {
   "cell_type": "markdown",
   "id": "299a6878-77bc-4c34-bc07-f5b62d5887e2",
   "metadata": {},
   "source": [
    "After several attempts using different subset selection models, we've decided that with the number of different predictors we have Forward Subset Selection was the best one to use. With that, we are going to start by using the Forward Subset Selection algorithm to determine what the best subset (combination) of the predictors are. We will perform several iteratations of the process below to find the least complex model with the lowest BIC. This will not necessarily be the best model, however."
   ]
  },
  {
   "cell_type": "markdown",
   "id": "bd95e35d-391a-4a45-9ad5-2d1a8ff5c935",
   "metadata": {},
   "source": [
    "### Predictor 1"
   ]
  },
  {
   "cell_type": "code",
   "execution_count": null,
   "id": "50ccdde6-e75a-4c2b-9d2c-cfc18dce5bbd",
   "metadata": {},
   "outputs": [],
   "source": [
    "metric_store = [[],[]]\n",
    "for i, combination in enumerate(combinations([0,1,2,3,4,5,6,8,9,10,11,12,13,14,15,16,17],1), 1):\n",
    "    x_data = sm.add_constant(newBaseball.iloc[:,list(combination)])\n",
    "    mod  = sm.OLS(newBaseball.HR, x_data).fit()\n",
    "    metric_store[0].append(list(combination))\n",
    "    metric_store[1].append(mod.bic)"
   ]
  },
  {
   "cell_type": "code",
   "execution_count": null,
   "id": "3fdaeabe-cff7-4e9f-8b0e-40bb058226c2",
   "metadata": {},
   "outputs": [],
   "source": [
    "metric_store"
   ]
  },
  {
   "cell_type": "code",
   "execution_count": null,
   "id": "09b21210-0c9c-414f-a2ae-bcdc0c6695cd",
   "metadata": {},
   "outputs": [],
   "source": [
    "metric_store[0][np.argmin(metric_store[1])], np.min(metric_store[1])"
   ]
  },
  {
   "cell_type": "markdown",
   "id": "22e6e6ca-fbb7-4032-b6fc-79a4a2b9ee29",
   "metadata": {},
   "source": [
    "### Predictor 2"
   ]
  },
  {
   "cell_type": "code",
   "execution_count": null,
   "id": "9ab13f25-2076-4f94-8a96-78733d2fbfea",
   "metadata": {},
   "outputs": [],
   "source": [
    "metric_store = [[],[]]\n",
    "for i, combination in enumerate(combinations([0,1,2,3,4,5,6,9,10,11,12,13,14,15,16,17],1), 1):\n",
    "    x_data = sm.add_constant(newBaseball.iloc[:,[8] + list(combination)])\n",
    "    mod  = sm.OLS(newBaseball.HR, x_data).fit()\n",
    "    metric_store[0].append(list(combination))\n",
    "    metric_store[1].append(mod.bic)"
   ]
  },
  {
   "cell_type": "code",
   "execution_count": null,
   "id": "3b26654f-4f51-435a-b2dd-c11e520ad586",
   "metadata": {},
   "outputs": [],
   "source": [
    "metric_store[0][np.argmin(metric_store[1])], np.min(metric_store[1])"
   ]
  },
  {
   "cell_type": "markdown",
   "id": "9abee997-3c42-4d6e-9e3d-4dd5fb53b21f",
   "metadata": {
    "tags": []
   },
   "source": [
    "### Predictor 3"
   ]
  },
  {
   "cell_type": "code",
   "execution_count": null,
   "id": "13e99653-e1ad-421d-8f5a-c6b6452da7d1",
   "metadata": {},
   "outputs": [],
   "source": [
    "metric_store = [[],[]]\n",
    "for i, combination in enumerate(combinations([0,1,2,3,4,5,6,9,10,11,12,13,14,15,17],1), 1):\n",
    "    x_data = sm.add_constant(newBaseball.iloc[:,[8,16] + list(combination)])\n",
    "    mod  = sm.OLS(newBaseball.HR, x_data).fit()\n",
    "    metric_store[0].append(list(combination))\n",
    "    metric_store[1].append(mod.bic)"
   ]
  },
  {
   "cell_type": "code",
   "execution_count": null,
   "id": "b10a548e-e74f-4c79-aa86-b8afbc0dfbaa",
   "metadata": {},
   "outputs": [],
   "source": [
    "metric_store[0][np.argmin(metric_store[1])], np.min(metric_store[1])"
   ]
  },
  {
   "cell_type": "markdown",
   "id": "67dc19c9-d5d6-439d-b9c7-220b9dda6a75",
   "metadata": {},
   "source": [
    "### Predictor 4"
   ]
  },
  {
   "cell_type": "code",
   "execution_count": null,
   "id": "eec2982d-c921-4e18-9072-cda6f5430507",
   "metadata": {},
   "outputs": [],
   "source": [
    "metric_store = [[],[]]\n",
    "for i, combination in enumerate(combinations([0,1,2,3,4,5,6,9,10,11,12,13,14,17],1), 1):\n",
    "    x_data = sm.add_constant(newBaseball.iloc[:,[8,15,16] + list(combination)])\n",
    "    mod  = sm.OLS(newBaseball.HR, x_data).fit()\n",
    "    metric_store[0].append(list(combination))\n",
    "    metric_store[1].append(mod.bic)"
   ]
  },
  {
   "cell_type": "code",
   "execution_count": null,
   "id": "2b0569b0-c891-4e04-9af4-085c2b719a0e",
   "metadata": {},
   "outputs": [],
   "source": [
    "metric_store[0][np.argmin(metric_store[1])], np.min(metric_store[1])"
   ]
  },
  {
   "cell_type": "markdown",
   "id": "8dff2fe8-54d5-41dc-89c5-7673960bd024",
   "metadata": {},
   "source": [
    "### Predictor 5"
   ]
  },
  {
   "cell_type": "code",
   "execution_count": null,
   "id": "7f600edd-2f7d-4583-a8a5-15e0b63ae982",
   "metadata": {},
   "outputs": [],
   "source": [
    "metric_store = [[],[]]\n",
    "for i, combination in enumerate(combinations([0,1,2,3,4,5,6,9,11,12,13,14,17],1), 1):\n",
    "    x_data = sm.add_constant(newBaseball.iloc[:,[8,10,15,16] + list(combination)])\n",
    "    mod  = sm.OLS(newBaseball.HR, x_data).fit()\n",
    "    metric_store[0].append(list(combination))\n",
    "    metric_store[1].append(mod.bic)"
   ]
  },
  {
   "cell_type": "code",
   "execution_count": null,
   "id": "32615ff0-d25c-4491-9fc1-5f6e869a1bda",
   "metadata": {},
   "outputs": [],
   "source": [
    "metric_store[0][np.argmin(metric_store[1])], np.min(metric_store[1])"
   ]
  },
  {
   "cell_type": "markdown",
   "id": "56a8dc96-248e-439a-ab17-052290415d30",
   "metadata": {},
   "source": [
    "Here, we stop since the BIC from Predictor 5 is higher than the BIC of Predictor 4. So our best subset is [8,10,15,16], or RBIs, CS, SH, and SF."
   ]
  },
  {
   "cell_type": "code",
   "execution_count": null,
   "id": "91af4218-de79-4648-8788-8f128a6d4109",
   "metadata": {},
   "outputs": [],
   "source": [
    "mod = smf.ols(formula='HR ~ 1 + RBI + CS + SH + SF', data = newBaseball)\n",
    "res = mod.fit()\n",
    "res.summary()"
   ]
  },
  {
   "cell_type": "code",
   "execution_count": null,
   "id": "d64b0ef7-a6a5-4e46-924f-4c1c1689c777",
   "metadata": {},
   "outputs": [],
   "source": [
    "plt.figure(dpi = 150)\n",
    "plt.plot(newBaseball['RBI'], newBaseball['HR'], '.', markersize=10, markeredgecolor=\"black\", color=\"goldenrod\")\n",
    "plt.plot(newBaseball['CS'], newBaseball['HR'], '.', markersize=10, markeredgecolor=\"black\", color=\"red\")\n",
    "plt.plot(newBaseball['SH'], newBaseball['HR'], '.', markersize=10, markeredgecolor=\"black\", color=\"green\")\n",
    "plt.plot(newBaseball['SF'], newBaseball['HR'], '.', markersize=10, markeredgecolor=\"black\", color=\"blue\")\n",
    "plt.ylabel(\"Home Runs\")\n",
    "plt.grid()\n",
    "plt.show()"
   ]
  },
  {
   "cell_type": "code",
   "execution_count": null,
   "id": "d0b384ea-cb31-4e1b-aa7e-f30aa3e60e41",
   "metadata": {},
   "outputs": [],
   "source": []
  }
 ],
 "metadata": {
  "kernelspec": {
   "display_name": "Python 3",
   "language": "python",
   "name": "python3"
  },
  "language_info": {
   "codemirror_mode": {
    "name": "ipython",
    "version": 3
   },
   "file_extension": ".py",
   "mimetype": "text/x-python",
   "name": "python",
   "nbconvert_exporter": "python",
   "pygments_lexer": "ipython3",
   "version": "3.8.8"
  }
 },
 "nbformat": 4,
 "nbformat_minor": 5
}
