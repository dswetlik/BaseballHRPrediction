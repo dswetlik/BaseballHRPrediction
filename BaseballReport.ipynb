{
 "cells": [
  {
   "cell_type": "markdown",
   "id": "0c218ca8-bf70-4bf0-b7d8-a3bdd6d2c019",
   "metadata": {},
   "source": [
    "# Baseball Home Run Predictions for Y2021"
   ]
  },
  {
   "cell_type": "markdown",
   "id": "2872c961-716e-414b-b1e7-237b4b35e10c",
   "metadata": {},
   "source": [
    "# Diedrich Swetlik and JP Richmond"
   ]
  },
  {
   "cell_type": "markdown",
   "id": "af285adc-e33d-4cd2-a222-4fc99947c9e2",
   "metadata": {},
   "source": [
    "## Introduction"
   ]
  },
  {
   "cell_type": "markdown",
   "id": "b2ccc5c2-892b-4d61-806f-dfb0b9195c7e",
   "metadata": {},
   "source": [
    "We are going to attempt to accurately predict the amount of home runs that will occur for the MLB 2021 Season. Since the season has already been completed and thus all the home runs that can occur in the 2021 season have already happened, we have a fine measurement as to just how accurate our model will be."
   ]
  },
  {
   "cell_type": "markdown",
   "id": "d214dbeb-a0c3-40eb-930f-18be9a92f2ae",
   "metadata": {},
   "source": [
    "We are using data from the 2000-2020 seasons on players hitting stats organized by year. This dataset was obtained from http://www.seanlahman.com/baseball-archive/statistics/ using the 2020 - comma delimited version. This gives a mountain of different datasets, from which we pulled the Batting.csv dataset. The Batting.csv dataset had data on batters starting in the year 1871, which we have determined isn't exactly helpful when trying to determine more modern baseball statistics, thus our version of Batting.csv found at https://github.com/dswetlik/BaseballHRPrediction/blob/master/Batting.csv has been cut down from 1.5 centuries to 2 decades. Finally, the data that we will be testing our model with comes from https://www.baseball-reference.com/leagues/majors/2021.shtml#teams_standard_batting. We only pulled from that site the final values of the year and the columns we will need at the end. The edited version of the data can be found at https://github.com/dswetlik/BaseballHRPrediction/blob/master/2021Batting.csv."
   ]
  },
  {
   "cell_type": "markdown",
   "id": "02ccc962-fd00-45d6-8bcd-dda53938abb5",
   "metadata": {},
   "source": [
    "That being said, we need to clean up our dataset a little bit more before we begin. This is because we need to compare yearly overall statistics and not individual player data. We will combine all of the statistics from every year and then begin fitting that to models."
   ]
  },
  {
   "cell_type": "markdown",
   "id": "e785915a-932c-492b-b310-65fd36442eb0",
   "metadata": {},
   "source": [
    "Our process for modeling will be fairly straightforward; we will do an ordinary least squares fit utilizing all of the predictors to get the p-values. After that, we will determine collinearity values using a VIF analysis. Then, we will perform subset selection using forward subset selection. Next, we will perform Leave One Out Cross Validation to test the best polynomial degree to fit our model with and test our model's overall accuracy. Finally, we will use that model to predict the amount of home runs for the 2021 season and assess our final accuracy."
   ]
  },
  {
   "cell_type": "markdown",
   "id": "926f2076-6eae-4ee2-9e2b-cd7bc7c82c5a",
   "metadata": {},
   "source": [
    "An initial disclaimer, the 2020 season was drastically shorter than every other season in the dataset due to the global pandemic and therefore the sample size is much smaller. However, we expect that the decrease in home runs and games played will also be reflected in the other predictors proportionately so that it can still be reliably used as data."
   ]
  },
  {
   "cell_type": "markdown",
   "id": "291d69bf-a306-4ca8-8b84-f468313c0a25",
   "metadata": {},
   "source": [
    "## Data Setup"
   ]
  },
  {
   "cell_type": "code",
   "execution_count": null,
   "id": "da1b80b7-6f1e-4ba9-a03b-f54a5f846be2",
   "metadata": {},
   "outputs": [],
   "source": [
    "# Basics and Plotting\n",
    "import pandas as pd\n",
    "import numpy as np\n",
    "import scipy as scp\n",
    "import matplotlib.pyplot as plt\n",
    "from mpl_toolkits import mplot3d\n",
    "import seaborn as sns\n",
    "from itertools import chain, combinations\n",
    "\n",
    "# Sklearn Models\n",
    "import sklearn.linear_model as skl_lm\n",
    "from sklearn.linear_model import LinearRegression, LogisticRegression\n",
    "from sklearn.linear_model import Lasso, Ridge\n",
    "from sklearn.metrics import mean_squared_error\n",
    "from sklearn.model_selection import train_test_split, LeaveOneOut, KFold, cross_val_score, cross_validate\n",
    "from sklearn.preprocessing import PolynomialFeatures\n",
    "from sklearn.neighbors import KNeighborsRegressor, KNeighborsClassifier\n",
    "from sklearn.preprocessing import scale\n",
    "from sklearn.decomposition import PCA\n",
    "from sklearn.cross_decomposition import PLSRegression\n",
    "\n",
    "# Alternative models\n",
    "import statsmodels.api as sm\n",
    "from statsmodels.stats.outliers_influence import variance_inflation_factor\n",
    "import statsmodels.formula.api as smf"
   ]
  },
  {
   "cell_type": "code",
   "execution_count": null,
   "id": "812eb749-a23c-4bd8-89ce-6b41cc5ead30",
   "metadata": {},
   "outputs": [],
   "source": [
    "baseball = pd.read_csv(\"https://raw.githubusercontent.com/dswetlik/BaseballHRPrediction/master/Batting.csv\")"
   ]
  },
  {
   "cell_type": "code",
   "execution_count": null,
   "id": "6534fba2-781a-440f-b912-03a150053652",
   "metadata": {},
   "outputs": [],
   "source": [
    "baseball"
   ]
  },
  {
   "cell_type": "markdown",
   "id": "660166c8-c630-4f70-974f-c6cd3e4714e3",
   "metadata": {},
   "source": [
    "Below we are dropping the columns playerID, teamID, stint, and lgID, as we have decided that they would be inconsequential or irrelavent for determining league-wide home run counts. This is because they are not even actual hitting statistics."
   ]
  },
  {
   "cell_type": "markdown",
   "id": "df21a378-e26e-4f82-bc97-3187d8001092",
   "metadata": {},
   "source": [
    "We are also going to drop CS, SH, SF, GIDP, SB, and HBP because they are stats related to groundouts/flyouts, at-bats that ended abruptly, and baserunning stats. Therefore, we determined that correlation would mean nothing because the stats have no real-life connection to home runs and any connection would prove to be a spurious relationship."
   ]
  },
  {
   "cell_type": "code",
   "execution_count": null,
   "id": "b66dbd41-21b5-4fff-b65a-6c3622aba001",
   "metadata": {},
   "outputs": [],
   "source": [
    "baseball.drop(columns=[\"playerID\",\"teamID\",\"stint\",\"lgID\",\"CS\",\"SH\",\"SF\",\"GIDP\",\"SB\",\"HBP\"], axis=1, inplace=True)\n",
    "baseball.rename(columns={\"2B\": \"Double\", \"3B\": \"Triple\"}, inplace=True)\n",
    "baseball.head()"
   ]
  },
  {
   "cell_type": "markdown",
   "id": "3812322f-45a3-4e31-bc48-edc31a7f8822",
   "metadata": {},
   "source": [
    "After dropping those columns, the remaining columns are as follows:"
   ]
  },
  {
   "cell_type": "markdown",
   "id": "c91bc15f-cdfe-40a3-a66f-a1bd518ad897",
   "metadata": {},
   "source": [
    "\n",
    "| Num | ID     | Name                       |\n",
    "|-----|--------|----------------------------|\n",
    "|  0  | yearID | Year                       |\n",
    "|  1  | G      | Games                      |\n",
    "|  2  | AB     | At Bats                    |\n",
    "|  3  | R      | Runs                       |\n",
    "|  4  | H      | Hits                       |\n",
    "|  5  | Double | Doubles                    |\n",
    "|  6  | Triple | Triples                    |\n",
    "|  7  | HR     | Home Runs                  |\n",
    "|  8  | RBI    | Runs Batted In             |\n",
    "|  9  | BB     | Base on Balls              |\n",
    "| 10  | SO     | Strikeouts                 |\n",
    "| 11  | IBB    | Intentional Walks          |"
   ]
  },
  {
   "cell_type": "markdown",
   "id": "c443c56a-ec4f-4614-8cff-1af38da37a01",
   "metadata": {},
   "source": [
    "This is almost usable for what we want, but it is still organized per-player, and we want it to be based on the year's total statistics. We will go through and create a new dataset now based on years."
   ]
  },
  {
   "cell_type": "code",
   "execution_count": null,
   "id": "7a951e1d-39de-4b8e-96be-1e0755ccbf2d",
   "metadata": {
    "tags": []
   },
   "outputs": [],
   "source": [
    "baseballYearTotal = []\n",
    "for i in range(2000,2021):\n",
    "    baseballYear = baseball.loc[baseball['yearID'] == i].to_dict(orient='dict')\n",
    "    G = 0\n",
    "    for j in baseballYear['G'].values():\n",
    "        G += j\n",
    "    AB = 0\n",
    "    for j in baseballYear['AB'].values():\n",
    "        AB += j\n",
    "    R = 0\n",
    "    for j in baseballYear['R'].values():\n",
    "        R += j\n",
    "    H = 0\n",
    "    for j in baseballYear['H'].values():\n",
    "        H += j\n",
    "    Double = 0\n",
    "    for j in baseballYear['Double'].values():\n",
    "        Double += j\n",
    "    Triple = 0\n",
    "    for j in baseballYear['Triple'].values():\n",
    "        Triple += j\n",
    "    HR = 0\n",
    "    for j in baseballYear['HR'].values():\n",
    "        HR += j\n",
    "    RBI = 0\n",
    "    for j in baseballYear['RBI'].values():\n",
    "        RBI += j\n",
    "    BB = 0\n",
    "    for j in baseballYear['BB'].values():\n",
    "        BB += j\n",
    "    SO = 0\n",
    "    for j in baseballYear['SO'].values():\n",
    "        SO += j\n",
    "    IBB = 0\n",
    "    for j in baseballYear['IBB'].values():\n",
    "        IBB += j\n",
    "    baseballYearTotal.append([i,G,AB,R,H,Double,Triple,HR,RBI,BB,SO,IBB])\n",
    "newBaseball = pd.DataFrame(baseballYearTotal, columns=['yearID','G','AB','R','H','Double','Triple','HR','RBI','BB','SO','IBB'])\n",
    "newBaseball"
   ]
  },
  {
   "cell_type": "markdown",
   "id": "fa3d9f6f-5a7d-44fd-8816-1c12e255bad9",
   "metadata": {},
   "source": [
    "Now that we have our statistics divided up by years, we will assess the overall trend in home runs over the last two decades of seasons and move on to look for significant variables and collinearity."
   ]
  },
  {
   "cell_type": "code",
   "execution_count": null,
   "id": "8cd25576-030b-4a40-bd40-6eada6c5c238",
   "metadata": {},
   "outputs": [],
   "source": [
    "newBaseball.plot.bar(x='yearID', y='HR', rot=90)"
   ]
  },
  {
   "cell_type": "markdown",
   "id": "7a6eb5f0-e4f4-475b-8a4d-697cece74351",
   "metadata": {},
   "source": [
    "It appears that there is a general upwards trend in home runs hit each year with a steep decrease in 2020 because COVID-19 shortened the season dramatically. We expect to see all of the predictors values to reflect this decrease proportionately. In 2021, it is expected that the number of home runs will return to the rising trend over the last decade. In the baseball community, this has become known as the \"live ball era\" because of the upwards trend in home runs. "
   ]
  },
  {
   "cell_type": "markdown",
   "id": "e3bdc0bd-ebc8-4172-8f9b-77c8a9ab26ad",
   "metadata": {},
   "source": [
    "Now that we have our data laid out in terms of total stats per year, we can continue."
   ]
  },
  {
   "cell_type": "code",
   "execution_count": null,
   "id": "4023545c-8fe9-4730-b5b1-77200447c971",
   "metadata": {},
   "outputs": [],
   "source": [
    "mod = smf.ols(formula='HR ~ 1 + yearID + G + AB + R + H + Double + Triple + RBI + BB + SO + IBB', data = newBaseball)"
   ]
  },
  {
   "cell_type": "code",
   "execution_count": null,
   "id": "73cba06f-4d70-4cfe-b2b6-62c310c2c9be",
   "metadata": {},
   "outputs": [],
   "source": [
    "res = mod.fit()\n",
    "res.summary()"
   ]
  },
  {
   "cell_type": "markdown",
   "id": "93242197-1d30-42eb-9f0f-fd985c947a1f",
   "metadata": {},
   "source": [
    "We decided to do a VIF analysis to determine collinearity in the predictors and found that many of the variables had a VIF score of above ten. This indicates a large amount of collinearity. We will not drop the predictors because of this but it is important to keep in mind as we head into our next step of subset selection. "
   ]
  },
  {
   "cell_type": "code",
   "execution_count": null,
   "id": "85fd99d3-48ca-4d68-a6bc-4b9263238819",
   "metadata": {},
   "outputs": [],
   "source": [
    "vif = pd.DataFrame()\n",
    "vif['X'] = newBaseball.columns\n",
    "vif['vif'] = [variance_inflation_factor(newBaseball.values, i) for i in range(len(newBaseball.columns))]\n",
    "vif"
   ]
  },
  {
   "cell_type": "markdown",
   "id": "ddbd7c89-2c02-45a9-8fd9-9a7545e09c00",
   "metadata": {},
   "source": [
    "## Subset Selection"
   ]
  },
  {
   "cell_type": "markdown",
   "id": "299a6878-77bc-4c34-bc07-f5b62d5887e2",
   "metadata": {},
   "source": [
    "After several attempts using different subset selection models, we've decided that with the number of different predictors we have Forward Subset Selection was the best one to use. With that, we are going to start by using the Forward Subset Selection algorithm to determine what the best subset (combination) of the predictors are. We will perform several iteratations of the process below to find the least complex model with the lowest BIC. This will not necessarily be the best model, however."
   ]
  },
  {
   "cell_type": "code",
   "execution_count": null,
   "id": "198b2e81-2f85-4532-af64-af4b5746b16f",
   "metadata": {},
   "outputs": [],
   "source": [
    "newBaseball.head()"
   ]
  },
  {
   "cell_type": "markdown",
   "id": "bd95e35d-391a-4a45-9ad5-2d1a8ff5c935",
   "metadata": {},
   "source": [
    "### Predictor 1"
   ]
  },
  {
   "cell_type": "code",
   "execution_count": null,
   "id": "50ccdde6-e75a-4c2b-9d2c-cfc18dce5bbd",
   "metadata": {},
   "outputs": [],
   "source": [
    "metric_store = [[],[]]\n",
    "for i, combination in enumerate(combinations([0,1,2,3,4,5,6,8,9,10,11],1), 1):\n",
    "    x_data = sm.add_constant(newBaseball.iloc[:,list(combination)])\n",
    "    mod  = sm.OLS(newBaseball.HR, x_data).fit()\n",
    "    metric_store[0].append(list(combination))\n",
    "    metric_store[1].append(mod.bic)"
   ]
  },
  {
   "cell_type": "code",
   "execution_count": null,
   "id": "3fdaeabe-cff7-4e9f-8b0e-40bb058226c2",
   "metadata": {},
   "outputs": [],
   "source": [
    "metric_store"
   ]
  },
  {
   "cell_type": "code",
   "execution_count": null,
   "id": "09b21210-0c9c-414f-a2ae-bcdc0c6695cd",
   "metadata": {},
   "outputs": [],
   "source": [
    "metric_store[0][np.argmin(metric_store[1])], np.min(metric_store[1])"
   ]
  },
  {
   "cell_type": "markdown",
   "id": "22e6e6ca-fbb7-4032-b6fc-79a4a2b9ee29",
   "metadata": {},
   "source": [
    "### Predictor 2"
   ]
  },
  {
   "cell_type": "code",
   "execution_count": null,
   "id": "9ab13f25-2076-4f94-8a96-78733d2fbfea",
   "metadata": {},
   "outputs": [],
   "source": [
    "metric_store = [[],[]]\n",
    "for i, combination in enumerate(combinations([0,1,2,3,4,5,6,9,10,11],1), 1):\n",
    "    x_data = sm.add_constant(newBaseball.iloc[:,[8] + list(combination)])\n",
    "    mod  = sm.OLS(newBaseball.HR, x_data).fit()\n",
    "    metric_store[0].append(list(combination))\n",
    "    metric_store[1].append(mod.bic)"
   ]
  },
  {
   "cell_type": "code",
   "execution_count": null,
   "id": "3b26654f-4f51-435a-b2dd-c11e520ad586",
   "metadata": {},
   "outputs": [],
   "source": [
    "metric_store[0][np.argmin(metric_store[1])], np.min(metric_store[1])"
   ]
  },
  {
   "cell_type": "markdown",
   "id": "9abee997-3c42-4d6e-9e3d-4dd5fb53b21f",
   "metadata": {
    "tags": []
   },
   "source": [
    "### Predictor 3"
   ]
  },
  {
   "cell_type": "code",
   "execution_count": null,
   "id": "13e99653-e1ad-421d-8f5a-c6b6452da7d1",
   "metadata": {},
   "outputs": [],
   "source": [
    "metric_store = [[],[]]\n",
    "for i, combination in enumerate(combinations([0,1,2,3,4,5,6,9,10],1), 1):\n",
    "    x_data = sm.add_constant(newBaseball.iloc[:,[8,11] + list(combination)])\n",
    "    mod  = sm.OLS(newBaseball.HR, x_data).fit()\n",
    "    metric_store[0].append(list(combination))\n",
    "    metric_store[1].append(mod.bic)"
   ]
  },
  {
   "cell_type": "code",
   "execution_count": null,
   "id": "b10a548e-e74f-4c79-aa86-b8afbc0dfbaa",
   "metadata": {},
   "outputs": [],
   "source": [
    "metric_store[0][np.argmin(metric_store[1])], np.min(metric_store[1])"
   ]
  },
  {
   "cell_type": "markdown",
   "id": "67dc19c9-d5d6-439d-b9c7-220b9dda6a75",
   "metadata": {},
   "source": [
    "### Predictor 4"
   ]
  },
  {
   "cell_type": "code",
   "execution_count": null,
   "id": "eec2982d-c921-4e18-9072-cda6f5430507",
   "metadata": {},
   "outputs": [],
   "source": [
    "metric_store = [[],[]]\n",
    "for i, combination in enumerate(combinations([0,1,2,4,5,6,9,10],1), 1):\n",
    "    x_data = sm.add_constant(newBaseball.iloc[:,[8,11,3] + list(combination)])\n",
    "    mod  = sm.OLS(newBaseball.HR, x_data).fit()\n",
    "    metric_store[0].append(list(combination))\n",
    "    metric_store[1].append(mod.bic)"
   ]
  },
  {
   "cell_type": "code",
   "execution_count": null,
   "id": "2b0569b0-c891-4e04-9af4-085c2b719a0e",
   "metadata": {},
   "outputs": [],
   "source": [
    "metric_store[0][np.argmin(metric_store[1])], np.min(metric_store[1])"
   ]
  },
  {
   "cell_type": "markdown",
   "id": "8dff2fe8-54d5-41dc-89c5-7673960bd024",
   "metadata": {},
   "source": [
    "### Predictor 5"
   ]
  },
  {
   "cell_type": "code",
   "execution_count": null,
   "id": "7f600edd-2f7d-4583-a8a5-15e0b63ae982",
   "metadata": {},
   "outputs": [],
   "source": [
    "metric_store = [[],[]]\n",
    "for i, combination in enumerate(combinations([0,1,2,4,6,9,10],1), 1):\n",
    "    x_data = sm.add_constant(newBaseball.iloc[:,[8,11,3,5] + list(combination)])\n",
    "    mod  = sm.OLS(newBaseball.HR, x_data).fit()\n",
    "    metric_store[0].append(list(combination))\n",
    "    metric_store[1].append(mod.bic)"
   ]
  },
  {
   "cell_type": "code",
   "execution_count": null,
   "id": "32615ff0-d25c-4491-9fc1-5f6e869a1bda",
   "metadata": {},
   "outputs": [],
   "source": [
    "metric_store[0][np.argmin(metric_store[1])], np.min(metric_store[1])"
   ]
  },
  {
   "cell_type": "markdown",
   "id": "8b07ab5e-7fa8-4366-a362-5f4ac2d0d0d4",
   "metadata": {},
   "source": [
    "### Predictor 6"
   ]
  },
  {
   "cell_type": "code",
   "execution_count": null,
   "id": "5d101591-a73e-4b6a-ab7e-a0f90bc7d57b",
   "metadata": {},
   "outputs": [],
   "source": [
    "metric_store = [[],[]]\n",
    "for i, combination in enumerate(combinations([0,1,2,4,6,9],1), 1):\n",
    "    x_data = sm.add_constant(newBaseball.iloc[:,[8,11,3,5,10] + list(combination)])\n",
    "    mod  = sm.OLS(newBaseball.HR, x_data).fit()\n",
    "    metric_store[0].append(list(combination))\n",
    "    metric_store[1].append(mod.bic)"
   ]
  },
  {
   "cell_type": "code",
   "execution_count": null,
   "id": "f73f19af-412d-42d1-994e-550836ffaea0",
   "metadata": {},
   "outputs": [],
   "source": [
    "metric_store[0][np.argmin(metric_store[1])], np.min(metric_store[1])"
   ]
  },
  {
   "cell_type": "markdown",
   "id": "782b02c5-b6e7-4cac-9bde-34631dabedb6",
   "metadata": {},
   "source": [
    "### Predictor 7"
   ]
  },
  {
   "cell_type": "code",
   "execution_count": null,
   "id": "d03220a7-a818-4cb9-a0f9-108f351ba23f",
   "metadata": {},
   "outputs": [],
   "source": [
    "metric_store = [[],[]]\n",
    "for i, combination in enumerate(combinations([0,1,2,4,6],1), 1):\n",
    "    x_data = sm.add_constant(newBaseball.iloc[:,[8,11,3,5,10,9] + list(combination)])\n",
    "    mod  = sm.OLS(newBaseball.HR, x_data).fit()\n",
    "    metric_store[0].append(list(combination))\n",
    "    metric_store[1].append(mod.bic)"
   ]
  },
  {
   "cell_type": "code",
   "execution_count": null,
   "id": "261ebbd7-dbb9-4aaa-ab60-13bd9637ab77",
   "metadata": {},
   "outputs": [],
   "source": [
    "metric_store[0][np.argmin(metric_store[1])], np.min(metric_store[1])"
   ]
  },
  {
   "cell_type": "code",
   "execution_count": null,
   "id": "b631cca7-e435-45b6-99d0-2fe5b959b286",
   "metadata": {},
   "outputs": [],
   "source": [
    "newBaseball.head()"
   ]
  },
  {
   "cell_type": "markdown",
   "id": "841cf76a-c130-4e68-8df6-629de3416ff4",
   "metadata": {},
   "source": [
    "According to our Forward Subset Selection, we have 6 chosen predictors. We have stopped at 6 since our testing for Predictor 7 has resulted in a higher BIC than the testing for Predictor 6."
   ]
  },
  {
   "cell_type": "markdown",
   "id": "7b9693fd-6e35-4c39-8dd9-f13371505bf2",
   "metadata": {},
   "source": [
    "Thus, our 6 predictors are as follows:"
   ]
  },
  {
   "cell_type": "markdown",
   "id": "91dad2e1-0734-488c-a142-8636d158687d",
   "metadata": {},
   "source": [
    "\n",
    "| Num | ID     | Name                       |\n",
    "|-----|--------|----------------------------|\n",
    "|  3  | R      | Runs                       |\n",
    "|  5  | Double | Doubles                    |\n",
    "|  8  | RBI    | Runs Batted In             |\n",
    "|  9  | BB     | Base on Balls              |\n",
    "| 10  | SO     | Strikeouts                 |\n",
    "| 11  | IBB    | Intentional Walks          |"
   ]
  },
  {
   "cell_type": "code",
   "execution_count": null,
   "id": "91af4218-de79-4648-8788-8f128a6d4109",
   "metadata": {},
   "outputs": [],
   "source": [
    "mod = smf.ols(formula='HR ~ 1 + R + Double + RBI + BB + SO + IBB', data = newBaseball)\n",
    "res = mod.fit()\n",
    "res.summary()"
   ]
  },
  {
   "cell_type": "code",
   "execution_count": null,
   "id": "d64b0ef7-a6a5-4e46-924f-4c1c1689c777",
   "metadata": {},
   "outputs": [],
   "source": [
    "plt.figure(dpi = 150)\n",
    "plt.plot(newBaseball['R'], newBaseball['HR'], '.', markersize=10, markeredgecolor=\"black\", color=\"goldenrod\")\n",
    "plt.plot(newBaseball['Double'], newBaseball['HR'], '.', markersize=10, markeredgecolor=\"black\", color=\"red\")\n",
    "plt.plot(newBaseball['RBI'], newBaseball['HR'], '.', markersize=10, markeredgecolor=\"black\", color=\"green\")\n",
    "plt.plot(newBaseball['BB'], newBaseball['HR'], '.', markersize=10, markeredgecolor=\"black\", color=\"blue\")\n",
    "plt.plot(newBaseball['SO'], newBaseball['HR'], '.', markersize=10, markeredgecolor=\"black\", color=\"pink\")\n",
    "plt.plot(newBaseball['IBB'], newBaseball['HR'], '.', markersize=10, markeredgecolor=\"black\", color=\"purple\")\n",
    "plt.ylabel(\"Home Runs\")\n",
    "plt.grid()\n",
    "plt.show()"
   ]
  },
  {
   "cell_type": "markdown",
   "id": "dc156572-fbe9-4bdb-b0d1-66fe1b402d92",
   "metadata": {},
   "source": [
    "This is a plot of all of the predictors plotted with home run counts. We see a slight positive correlation in multiple predictors. While not useful for specifically predicting home run count, this figure is a good visual to see any obvious relationships between the predictors and the response."
   ]
  },
  {
   "cell_type": "markdown",
   "id": "aebe3c40-3abd-45d0-90a2-fdc5245f3d1a",
   "metadata": {},
   "source": [
    "## Leave One Out Cross Validation"
   ]
  },
  {
   "cell_type": "markdown",
   "id": "c4a5478e-a0c6-4909-9a2d-0d28643acc66",
   "metadata": {},
   "source": [
    "We are now going to proceed with using Leave One Out Cross Validation ('LOOCV') to be testing which polynomial degree our model should be fit to, and then testing the accuracy of the model with that polynomial degree with LOOCV."
   ]
  },
  {
   "cell_type": "code",
   "execution_count": null,
   "id": "d0b384ea-cb31-4e1b-aa7e-f30aa3e60e41",
   "metadata": {},
   "outputs": [],
   "source": [
    "loocv = LeaveOneOut()\n",
    "regr = skl_lm.LinearRegression()\n",
    "M = 16\n",
    "pred = [3,5,8,9,10,11]\n",
    "loocv_mse = []\n",
    "\n",
    "for i in range(M):\n",
    "    predMSE = []\n",
    "    for j in pred:\n",
    "        x_poly = PolynomialFeatures(i).fit_transform(newBaseball.iloc[:,j].to_numpy().reshape(-1,1))\n",
    "        mse = cross_val_score(regr, x_poly, newBaseball.HR, cv=loocv, scoring='neg_mean_squared_error').mean()\n",
    "        predMSE.append(-mse)\n",
    "    val = 0\n",
    "    for j in predMSE:\n",
    "        val += j\n",
    "    loocv_mse.append(val)"
   ]
  },
  {
   "cell_type": "code",
   "execution_count": null,
   "id": "600d9065-6ee7-4648-a2c8-c6c57f950960",
   "metadata": {},
   "outputs": [],
   "source": [
    "loocv_mse"
   ]
  },
  {
   "cell_type": "code",
   "execution_count": null,
   "id": "39d27b22-6077-4018-afb3-c98410294f6a",
   "metadata": {},
   "outputs": [],
   "source": [
    "plt.figure(dpi=150)\n",
    "plt.plot(range(M),loocv_mse,'.-',markersize=10)\n",
    "plt.xlabel(\"Polynomial Degree\"); plt.ylabel(\"MSE\")\n",
    "plt.grid()\n",
    "plt.show()"
   ]
  },
  {
   "cell_type": "markdown",
   "id": "510f2101-cc2f-4da7-b559-1ba95b1dbb2a",
   "metadata": {},
   "source": [
    "Through our LOOCV test, we have determined, to our surprise, that a linear model is the best fit for the data. Now, because our dataset has few rows, we will use Leave One Out Cross Validation to determine the accuracy and error in our model. After that, we will use our hopefully accurate model to attempt to predict the home run count for the 2021 MLB season.\n"
   ]
  },
  {
   "cell_type": "code",
   "execution_count": null,
   "id": "fa60b565-0b12-4317-a0b0-bfeeef497d6e",
   "metadata": {},
   "outputs": [],
   "source": [
    "from numpy import mean\n",
    "from numpy import std\n",
    "my_preds = [3,5,8,9,10,11]\n",
    "X = newBaseball.iloc[:,[3,5,8,9,10,11]]\n",
    "loocv = LeaveOneOut()\n",
    "regr = skl_lm.LinearRegression()\n",
    "scores = cross_val_score(regr, newBaseball.iloc[:,[3,5,8,9,10,11]], newBaseball.HR, scoring='neg_mean_squared_error', cv=loocv, n_jobs=-1)\n",
    "print('Accuracy: %.3f (%.3f)' % (mean(-scores), std(scores)))"
   ]
  },
  {
   "cell_type": "markdown",
   "id": "07fc50fc-17fe-42be-9036-96550b432b3b",
   "metadata": {},
   "source": [
    "This is our MSE for our model."
   ]
  },
  {
   "cell_type": "markdown",
   "id": "8995bca5-41a0-4e6a-a634-401f9f48f305",
   "metadata": {},
   "source": [
    "This is a fairly accurate model overall. Next, we will predict the home run count for the 2021 season and see how close we get to the actual value."
   ]
  },
  {
   "cell_type": "markdown",
   "id": "74cf915b-b388-4a4f-b4dc-40a2e1f24f0e",
   "metadata": {},
   "source": [
    "## Testing"
   ]
  },
  {
   "cell_type": "code",
   "execution_count": null,
   "id": "26e34b50-fd8b-4a38-ad6f-36b99450fc52",
   "metadata": {},
   "outputs": [],
   "source": [
    "baseball2021 = pd.read_csv(\"https://raw.githubusercontent.com/dswetlik/BaseballHRPrediction/master/2021Batting.csv\")\n",
    "baseball2021"
   ]
  },
  {
   "cell_type": "code",
   "execution_count": null,
   "id": "f1db7f2f-176d-4705-8146-b4013e0bae03",
   "metadata": {},
   "outputs": [],
   "source": [
    "mod = skl_lm.LinearRegression()\n",
    "Y_pred = mod.fit(newBaseball.iloc[:,[3,5,8,9,10,11]], newBaseball.HR).predict(baseball2021.iloc[:,[3,5,8,9,10,11]])\n",
    "Y_pred[0]"
   ]
  },
  {
   "cell_type": "markdown",
   "id": "a6f1aa5a-98e2-422e-b83b-73d9e3af5799",
   "metadata": {},
   "source": [
    "Our model has predicted a home run count of 6204 for the year 2021. The actual home run count for 2021 was 5944. Our model overshot the total home runs by 260."
   ]
  },
  {
   "cell_type": "markdown",
   "id": "42462068-0cf8-417f-95f5-16e1a17085f1",
   "metadata": {},
   "source": [
    "## Conclusion"
   ]
  },
  {
   "cell_type": "markdown",
   "id": "df2c5b0c-c1e4-4014-be15-d33bba5a8ecb",
   "metadata": {},
   "source": [
    "We are incredibly happy with our findings here. While our model predicted a total home run count of 260 over the actual number, we consider that to be a relatively accurate prediction. Both Diedrich and myself considered this to be within reasonable bounds of error. Our model is extremely biased, though, as we are using a one-degree polynomial and have six predictors. Because of this, our model's flexibility is extremely low. We think it would be very interesting to see how accurate our model would be if we added 2021 to the dataset and try to predict the next season's home run count to see if the model holds up well over time."
   ]
  }
 ],
 "metadata": {
  "kernelspec": {
   "display_name": "Python 3",
   "language": "python",
   "name": "python3"
  },
  "language_info": {
   "codemirror_mode": {
    "name": "ipython",
    "version": 3
   },
   "file_extension": ".py",
   "mimetype": "text/x-python",
   "name": "python",
   "nbconvert_exporter": "python",
   "pygments_lexer": "ipython3",
   "version": "3.8.8"
  }
 },
 "nbformat": 4,
 "nbformat_minor": 5
}
